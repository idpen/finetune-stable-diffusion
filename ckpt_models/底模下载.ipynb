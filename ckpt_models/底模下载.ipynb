{
 "cells": [
  {
   "cell_type": "markdown",
   "id": "c363f7ff-1bcd-4c7e-9d15-896d6cc3f306",
   "metadata": {},
   "source": [
    "# 网络加速\n",
    "具体参考：https://www.autodl.com/docs/network_turbo/"
   ]
  },
  {
   "cell_type": "markdown",
   "id": "b323c2ee-f01e-4dec-a26a-6540434847cc",
   "metadata": {},
   "source": [
    "内蒙区机器："
   ]
  },
  {
   "cell_type": "code",
   "execution_count": 11,
   "id": "7a89c956-dd03-4814-a415-976ef57ee0f1",
   "metadata": {},
   "outputs": [],
   "source": [
    "!export http_proxy=http://192.168.1.174:12798 && export https_proxy=http://192.168.1.174:12798"
   ]
  },
  {
   "cell_type": "markdown",
   "id": "2d17f554-a5b7-495c-9e4a-dceaedb278f0",
   "metadata": {},
   "source": [
    "北京区机器："
   ]
  },
  {
   "cell_type": "code",
   "execution_count": null,
   "id": "7a38ef99-1efc-4de0-8ce2-029a831fb3d0",
   "metadata": {},
   "outputs": [],
   "source": [
    "!export http_proxy=http://100.72.64.19:12798 && export https_proxy=http://100.72.64.19:12798"
   ]
  },
  {
   "cell_type": "markdown",
   "id": "fb436b8a-bd24-423f-b534-c812fbf32015",
   "metadata": {},
   "source": [
    "# 动漫风格"
   ]
  },
  {
   "cell_type": "markdown",
   "id": "1c16f524-dbe8-4a1e-9abb-0585a2d2b4f5",
   "metadata": {},
   "source": [
    "### Anything V3\n",
    "一个广为流传的二次元模型。  \n",
    "https://huggingface.co/Linaqruf/anything-v3.0"
   ]
  },
  {
   "cell_type": "code",
   "execution_count": null,
   "id": "f8d7ec39-abef-4158-8000-0cfb38b4f041",
   "metadata": {},
   "outputs": [],
   "source": [
    "!wget https://huggingface.co/Linaqruf/anything-v3.0/resolve/main/anything-v3-fp16-pruned.safetensors"
   ]
  },
  {
   "cell_type": "markdown",
   "id": "2aa0fc10-8e85-47ba-ad79-a1024d32a528",
   "metadata": {},
   "source": [
    "### Anything V4 \n",
    "https://huggingface.co/andite/anything-v4.0"
   ]
  },
  {
   "cell_type": "code",
   "execution_count": null,
   "id": "b1abcf9b-9ac7-4a16-bf00-6eef3453bdfa",
   "metadata": {},
   "outputs": [],
   "source": [
    "!wget https://huggingface.co/andite/anything-v4.0/resolve/main/anything-v4.0-pruned-fp16.safetensors"
   ]
  },
  {
   "cell_type": "code",
   "execution_count": null,
   "id": "66b3e262-957e-486f-b0a7-70121af4885e",
   "metadata": {},
   "outputs": [],
   "source": [
    "!wget https://huggingface.co/andite/anything-v4.0/resolve/main/anything-v4.5-pruned-fp16.ckpt"
   ]
  },
  {
   "cell_type": "markdown",
   "id": "8bef75af-bae6-459c-85ff-c7455d79d92a",
   "metadata": {},
   "source": [
    "### Counterfeit-V2.5\n",
    "场景表现力丰富的动漫模型。  \n",
    "https://huggingface.co/gsdf/Counterfeit-V2.5"
   ]
  },
  {
   "cell_type": "code",
   "execution_count": 14,
   "id": "f69e5c93-0a48-40a7-845b-3f3ea479a8dc",
   "metadata": {},
   "outputs": [
    {
     "name": "stdout",
     "output_type": "stream",
     "text": [
      "--2023-02-06 21:29:42--  https://huggingface.co/gsdf/Counterfeit-V2.5/resolve/main/Counterfeit-V2.5_pruned.safetensors\n",
      "Resolving huggingface.co (huggingface.co)... 54.235.118.239, 3.231.67.228, 2600:1f18:147f:e850:e203:c458:10cd:fc3c, ...\n",
      "Connecting to huggingface.co (huggingface.co)|54.235.118.239|:443... connected.\n",
      "HTTP request sent, awaiting response... 302 Found\n",
      "Location: https://cdn-lfs.huggingface.co/repos/ec/1e/ec1e262cd36b3640bce49697bc3c648fcbe4b6c84418190e287644fa76ca0a45/a074b8864e31b8681e40db3dfde0005df7b5309fd2a2f592a2caee59e4591cae?response-content-disposition=attachment%3B+filename*%3DUTF-8%27%27Counterfeit-V2.5_pruned.safetensors%3B+filename%3D%22Counterfeit-V2.5_pruned.safetensors%22%3B&Expires=1675947715&Policy=eyJTdGF0ZW1lbnQiOlt7IlJlc291cmNlIjoiaHR0cHM6Ly9jZG4tbGZzLmh1Z2dpbmdmYWNlLmNvL3JlcG9zL2VjLzFlL2VjMWUyNjJjZDM2YjM2NDBiY2U0OTY5N2JjM2M2NDhmY2JlNGI2Yzg0NDE4MTkwZTI4NzY0NGZhNzZjYTBhNDUvYTA3NGI4ODY0ZTMxYjg2ODFlNDBkYjNkZmRlMDAwNWRmN2I1MzA5ZmQyYTJmNTkyYTJjYWVlNTllNDU5MWNhZT9yZXNwb25zZS1jb250ZW50LWRpc3Bvc2l0aW9uPSoiLCJDb25kaXRpb24iOnsiRGF0ZUxlc3NUaGFuIjp7IkFXUzpFcG9jaFRpbWUiOjE2NzU5NDc3MTV9fX1dfQ__&Signature=GbxyjOLiWQ%7ENMepVcdDdtYi7QirJHPBJPIx-CnTX3dNJRKCN3-Vwk4U0o0XZ-aRQjqTJ-r1vXWPuAfNAsTcEOaFIS3WJ0%7EyppRv6JbUa%7E-WdVnIIyTah8SOin0Zp78YSU98UQmBpJb8IhZTMzXj997xoqi54c0o0wfrTZVbKlnhyPDN5PXx4AyuXiJIsAFkN-vzm1rtFNMA1faLzOAIYjJe7kxnvxSe7fVqwq8EiD%7EcPBgMvUTIGK-tDxMhFpXRikhk9SiYcA25HrHNCXem2zcnwxYiYRlpLMa94F-6i2lFOo8pafr30X0Rbs0-IymOBbc65fedAT4tea3dfhSWoTg__&Key-Pair-Id=KVTP0A1DKRTAX [following]\n",
      "--2023-02-06 21:29:43--  https://cdn-lfs.huggingface.co/repos/ec/1e/ec1e262cd36b3640bce49697bc3c648fcbe4b6c84418190e287644fa76ca0a45/a074b8864e31b8681e40db3dfde0005df7b5309fd2a2f592a2caee59e4591cae?response-content-disposition=attachment%3B+filename*%3DUTF-8%27%27Counterfeit-V2.5_pruned.safetensors%3B+filename%3D%22Counterfeit-V2.5_pruned.safetensors%22%3B&Expires=1675947715&Policy=eyJTdGF0ZW1lbnQiOlt7IlJlc291cmNlIjoiaHR0cHM6Ly9jZG4tbGZzLmh1Z2dpbmdmYWNlLmNvL3JlcG9zL2VjLzFlL2VjMWUyNjJjZDM2YjM2NDBiY2U0OTY5N2JjM2M2NDhmY2JlNGI2Yzg0NDE4MTkwZTI4NzY0NGZhNzZjYTBhNDUvYTA3NGI4ODY0ZTMxYjg2ODFlNDBkYjNkZmRlMDAwNWRmN2I1MzA5ZmQyYTJmNTkyYTJjYWVlNTllNDU5MWNhZT9yZXNwb25zZS1jb250ZW50LWRpc3Bvc2l0aW9uPSoiLCJDb25kaXRpb24iOnsiRGF0ZUxlc3NUaGFuIjp7IkFXUzpFcG9jaFRpbWUiOjE2NzU5NDc3MTV9fX1dfQ__&Signature=GbxyjOLiWQ%7ENMepVcdDdtYi7QirJHPBJPIx-CnTX3dNJRKCN3-Vwk4U0o0XZ-aRQjqTJ-r1vXWPuAfNAsTcEOaFIS3WJ0%7EyppRv6JbUa%7E-WdVnIIyTah8SOin0Zp78YSU98UQmBpJb8IhZTMzXj997xoqi54c0o0wfrTZVbKlnhyPDN5PXx4AyuXiJIsAFkN-vzm1rtFNMA1faLzOAIYjJe7kxnvxSe7fVqwq8EiD%7EcPBgMvUTIGK-tDxMhFpXRikhk9SiYcA25HrHNCXem2zcnwxYiYRlpLMa94F-6i2lFOo8pafr30X0Rbs0-IymOBbc65fedAT4tea3dfhSWoTg__&Key-Pair-Id=KVTP0A1DKRTAX\n",
      "Resolving cdn-lfs.huggingface.co (cdn-lfs.huggingface.co)... 18.65.216.17, 18.65.216.11, 18.65.216.64, ...\n",
      "Connecting to cdn-lfs.huggingface.co (cdn-lfs.huggingface.co)|18.65.216.17|:443... connected.\n",
      "HTTP request sent, awaiting response... 200 OK\n",
      "Length: 4265097179 (4.0G) [binary/octet-stream]\n",
      "Saving to: ‘Counterfeit-V2.5_pruned.safetensors’\n",
      "\n",
      " Counterfeit-V2.5_p   0%[                    ] 232.00K  55.9KB/s    eta 17h 5m ^C\n"
     ]
    }
   ],
   "source": [
    "!wget https://huggingface.co/gsdf/Counterfeit-V2.5/resolve/main/Counterfeit-V2.5_pruned.safetensors"
   ]
  },
  {
   "cell_type": "markdown",
   "id": "180f9e18-e9ce-409e-accf-15b002b97808",
   "metadata": {},
   "source": [
    "### Anytwam\n",
    "动漫表现力比较强的模型。  \n",
    "https://civitai.com/models/3745/anytwam-11-mixedmodel"
   ]
  },
  {
   "cell_type": "code",
   "execution_count": null,
   "id": "441e74d3-1716-4e75-835f-d952acadd292",
   "metadata": {},
   "outputs": [],
   "source": [
    "!wget https://civitai.com/api/download/models/4527 -O anytwam.safetensors "
   ]
  },
  {
   "cell_type": "markdown",
   "id": "f256e8d5-28df-48ba-b685-7ac5757ddfea",
   "metadata": {},
   "source": [
    "或下面这个链接："
   ]
  },
  {
   "cell_type": "code",
   "execution_count": null,
   "id": "48981243-504a-48b1-838a-48bd050636c3",
   "metadata": {},
   "outputs": [],
   "source": [
    "!wget https://huggingface.co/etherealxx/anytwam-mix/resolve/main/anyTwamMixedModel-pruned.safetensors "
   ]
  },
  {
   "cell_type": "markdown",
   "id": "2348f990-bd63-48d0-b51b-b022993b8164",
   "metadata": {},
   "source": [
    "# 写实风格"
   ]
  },
  {
   "cell_type": "markdown",
   "id": "e9e66b14-0512-487f-a2f8-3cd73148d28c",
   "metadata": {},
   "source": [
    "### stable diffusion 1-5\n",
    "https://huggingface.co/runwayml/stable-diffusion-v1-5"
   ]
  },
  {
   "cell_type": "code",
   "execution_count": null,
   "id": "db10f5b3-1fc7-45a3-befd-1c2e6845d9f9",
   "metadata": {},
   "outputs": [],
   "source": [
    "!wget https://huggingface.co/runwayml/stable-diffusion-v1-5/resolve/main/v1-5-pruned-emaonly.safetensors"
   ]
  },
  {
   "cell_type": "markdown",
   "id": "fb3f886f-dfb2-4159-850d-9faf78a752f4",
   "metadata": {},
   "source": [
    "### stable diffusion 2-1\n",
    "https://huggingface.co/stabilityai/stable-diffusion-2-1"
   ]
  },
  {
   "cell_type": "code",
   "execution_count": null,
   "id": "5b133e80-d07b-4e81-85e7-baa069157986",
   "metadata": {},
   "outputs": [],
   "source": [
    "!wget https://huggingface.co/stabilityai/stable-diffusion-2-1/resolve/main/v2-1_768-nonema-pruned.safetensors"
   ]
  },
  {
   "cell_type": "markdown",
   "id": "c82861c2-34e2-4a32-9f17-ce7daea2fcf6",
   "metadata": {},
   "source": [
    "### basil mix\n",
    "一个偏东亚面孔的写真模型。  \n",
    "https://huggingface.co/nuigurumi/basil_mix"
   ]
  },
  {
   "cell_type": "code",
   "execution_count": 12,
   "id": "4d5e123e-b13d-494f-a7aa-d82400198b72",
   "metadata": {},
   "outputs": [
    {
     "name": "stdout",
     "output_type": "stream",
     "text": [
      "--2023-02-06 20:50:16--  https://huggingface.co/nuigurumi/basil_mix/resolve/main/Basil_mix_fixed.safetensors\n",
      "Resolving huggingface.co (huggingface.co)... 54.235.118.239, 3.231.67.228, 2600:1f18:147f:e850:e203:c458:10cd:fc3c, ...\n",
      "Connecting to huggingface.co (huggingface.co)|54.235.118.239|:443... connected.\n",
      "HTTP request sent, awaiting response... 302 Found\n",
      "Location: https://cdn-lfs.huggingface.co/repos/5b/ec/5bec02f48cde4dc46a4a3590ccf377e5b59a146f5f769f4291923392aaa8315a/0ff127093f5be455057742c40cef578407b6933f240ee8dc5ed0f3061196fb38?response-content-disposition=attachment%3B+filename*%3DUTF-8%27%27Basil_mix_fixed.safetensors%3B+filename%3D%22Basil_mix_fixed.safetensors%22%3B&Expires=1675940949&Policy=eyJTdGF0ZW1lbnQiOlt7IlJlc291cmNlIjoiaHR0cHM6Ly9jZG4tbGZzLmh1Z2dpbmdmYWNlLmNvL3JlcG9zLzViL2VjLzViZWMwMmY0OGNkZTRkYzQ2YTRhMzU5MGNjZjM3N2U1YjU5YTE0NmY1Zjc2OWY0MjkxOTIzMzkyYWFhODMxNWEvMGZmMTI3MDkzZjViZTQ1NTA1Nzc0MmM0MGNlZjU3ODQwN2I2OTMzZjI0MGVlOGRjNWVkMGYzMDYxMTk2ZmIzOD9yZXNwb25zZS1jb250ZW50LWRpc3Bvc2l0aW9uPSoiLCJDb25kaXRpb24iOnsiRGF0ZUxlc3NUaGFuIjp7IkFXUzpFcG9jaFRpbWUiOjE2NzU5NDA5NDl9fX1dfQ__&Signature=Bw80Nm9DQR%7ESohcmXQcir3pR1rMRgbJmEISfM0cYaxpaykWwLx5gPV-i2UEhLMUdvhRk7DzKS8u0uO3SGsR4KcfauleXBPssP0v8dBCc3es7hHFqJBYRKbrWph0XuAuGsIGlhHy8F0pOyahkm1LOUsZuO1WjhclU5WuTqZp6rXLe1UA%7ElJ4W8GL%7Esalk6YH-ZAnpM42mMmG8utc9i7HFkKJf16IMAJrMpCsczt5ObPbYmCdC0GZ3n8G8UhyjbI7L3N8mNqvX5PRn6sykKw3F88AlLGQcH6IUH0H%7EfGZp52H6b92uvJagxKFR%7EDH8w4OqwStLroapJfA38zmLDMINWg__&Key-Pair-Id=KVTP0A1DKRTAX [following]\n",
      "--2023-02-06 20:50:17--  https://cdn-lfs.huggingface.co/repos/5b/ec/5bec02f48cde4dc46a4a3590ccf377e5b59a146f5f769f4291923392aaa8315a/0ff127093f5be455057742c40cef578407b6933f240ee8dc5ed0f3061196fb38?response-content-disposition=attachment%3B+filename*%3DUTF-8%27%27Basil_mix_fixed.safetensors%3B+filename%3D%22Basil_mix_fixed.safetensors%22%3B&Expires=1675940949&Policy=eyJTdGF0ZW1lbnQiOlt7IlJlc291cmNlIjoiaHR0cHM6Ly9jZG4tbGZzLmh1Z2dpbmdmYWNlLmNvL3JlcG9zLzViL2VjLzViZWMwMmY0OGNkZTRkYzQ2YTRhMzU5MGNjZjM3N2U1YjU5YTE0NmY1Zjc2OWY0MjkxOTIzMzkyYWFhODMxNWEvMGZmMTI3MDkzZjViZTQ1NTA1Nzc0MmM0MGNlZjU3ODQwN2I2OTMzZjI0MGVlOGRjNWVkMGYzMDYxMTk2ZmIzOD9yZXNwb25zZS1jb250ZW50LWRpc3Bvc2l0aW9uPSoiLCJDb25kaXRpb24iOnsiRGF0ZUxlc3NUaGFuIjp7IkFXUzpFcG9jaFRpbWUiOjE2NzU5NDA5NDl9fX1dfQ__&Signature=Bw80Nm9DQR%7ESohcmXQcir3pR1rMRgbJmEISfM0cYaxpaykWwLx5gPV-i2UEhLMUdvhRk7DzKS8u0uO3SGsR4KcfauleXBPssP0v8dBCc3es7hHFqJBYRKbrWph0XuAuGsIGlhHy8F0pOyahkm1LOUsZuO1WjhclU5WuTqZp6rXLe1UA%7ElJ4W8GL%7Esalk6YH-ZAnpM42mMmG8utc9i7HFkKJf16IMAJrMpCsczt5ObPbYmCdC0GZ3n8G8UhyjbI7L3N8mNqvX5PRn6sykKw3F88AlLGQcH6IUH0H%7EfGZp52H6b92uvJagxKFR%7EDH8w4OqwStLroapJfA38zmLDMINWg__&Key-Pair-Id=KVTP0A1DKRTAX\n",
      "Resolving cdn-lfs.huggingface.co (cdn-lfs.huggingface.co)... 18.65.216.11, 18.65.216.64, 18.65.216.33, ...\n",
      "Connecting to cdn-lfs.huggingface.co (cdn-lfs.huggingface.co)|18.65.216.11|:443... connected.\n",
      "HTTP request sent, awaiting response... 200 OK\n",
      "Length: 2132625431 (2.0G) [binary/octet-stream]\n",
      "Saving to: ‘Basil_mix_fixed.safetensors.5’\n",
      "\n",
      " Basil_mix_fixed.sa   1%[                    ]  36.44M  16.8KB/s    eta 20h 9m ^C\n"
     ]
    }
   ],
   "source": [
    "!wget https://huggingface.co/nuigurumi/basil_mix/resolve/main/Basil_mix_fixed.safetensors"
   ]
  },
  {
   "cell_type": "code",
   "execution_count": null,
   "id": "df2eac4e-fb0b-4659-9de0-6883283474d0",
   "metadata": {},
   "outputs": [],
   "source": []
  }
 ],
 "metadata": {
  "kernelspec": {
   "display_name": "Python 3 (ipykernel)",
   "language": "python",
   "name": "python3"
  },
  "language_info": {
   "codemirror_mode": {
    "name": "ipython",
    "version": 3
   },
   "file_extension": ".py",
   "mimetype": "text/x-python",
   "name": "python",
   "nbconvert_exporter": "python",
   "pygments_lexer": "ipython3",
   "version": "3.8.10"
  }
 },
 "nbformat": 4,
 "nbformat_minor": 5
}

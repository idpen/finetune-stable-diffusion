{
 "cells": [
  {
   "cell_type": "markdown",
   "id": "a0b34c19-4215-46f9-9def-65e73629665c",
   "metadata": {},
   "source": [
    "# Finetune Stable Diffusion 集成化环境训练\n",
    "如果你是在autodl上的机器可以直接使用封装好的镜像创建实例，开箱即用  \n",
    "如果是本地或者其他服务器上也可以使用，需要手动安装一些pip包\n",
    "\n",
    "## 注意\n",
    "本项目仅供用于学习、测试人工智能技术使用  \n",
    "请勿用于训练生成不良或侵权图片内容  \n",
    "\n"
   ]
  },
  {
   "cell_type": "markdown",
   "id": "f091e609-bacc-469a-b6cf-bffe331a8944",
   "metadata": {},
   "source": [
    "### 本文件为notebook在线运行版\n",
    "具体详细的教程和参数说明请在根目录下教程.md 文件中查看。  \n",
    "在notebook中执行linux命令，需要前面加个!(感叹号)  \n",
    "代码块前如果有个[*]，表示正在运行该步骤，并不是卡住了  \n",
    "如果遇到问题可到b站主页找该教程对应训练演示的视频：https://space.bilibili.com/291593914 "
   ]
  },
  {
   "cell_type": "markdown",
   "id": "34cf6ed1-f2b1-4abd-baf6-565ac00567ab",
   "metadata": {},
   "source": [
    "### 首先，进入工作文件夹\n",
    "记得先把项目文件夹移动到autodl-tmp目录下 "
   ]
  },
  {
   "cell_type": "code",
   "execution_count": null,
   "id": "a1249a32-ce15-4b1b-8068-8149ad40588b",
   "metadata": {},
   "outputs": [],
   "source": [
    "%cd /root/autodl-tmp/dreambooth-for-diffusion"
   ]
  },
  {
   "cell_type": "markdown",
   "id": "df07efa6-4a87-445b-85ea-c4d51e01600a",
   "metadata": {},
   "source": [
    "### 然后，把环境缓存（权重）移到系统目录下"
   ]
  },
  {
   "cell_type": "code",
   "execution_count": null,
   "id": "10291e60-4739-434f-88fa-5b9eae27b692",
   "metadata": {},
   "outputs": [],
   "source": [
    "!rm -rf /root/.cache \n",
    "!mv /root/env-cache /root/.cache "
   ]
  },
  {
   "cell_type": "markdown",
   "id": "5dd7a8e1-e820-4892-88c0-47f3dc9833d4",
   "metadata": {},
   "source": [
    "### 那么，开始你的AIGC训练之旅吧\n",
    "欢迎在Github上关注我们的组织, 持续维护更多AIGC领域好用的工具！https://github.com/idpen  \n",
    "—— 造梦笔   "
   ]
  },
  {
   "cell_type": "markdown",
   "id": "ccba0e31-f01d-43e5-b474-7d88e0b09bd8",
   "metadata": {},
   "source": [
    "# 一、准备数据集\n",
    "该部分请参考教程.md文件中的详细内容自行上传并处理你的数据集  \n",
    "./datasets/test中为16张仅供于学习测试的样本数据，便于你了解以下代码的用处  \n"
   ]
  },
  {
   "cell_type": "markdown",
   "id": "ed262810-f9f1-442e-bae0-e5db737da73c",
   "metadata": {},
   "source": [
    "### 批量图片超分、降噪、去模糊\n",
    "这一步是可以跳过的。  \n",
    "### 只针对质量差的小图使用!大图超分会爆显存\n",
    "这里提供了一份批量超分处理，针对本身图源比较差而且尺寸比较小的图片处理。"
   ]
  },
  {
   "cell_type": "markdown",
   "id": "f036372c-964f-4445-a266-972a8e14cb42",
   "metadata": {},
   "source": [
    "针对写实图片使用："
   ]
  },
  {
   "cell_type": "code",
   "execution_count": null,
   "id": "a5653878-0cb9-4529-b713-e7b83ab8b097",
   "metadata": {},
   "outputs": [],
   "source": [
    "!python tools/make_upscale.py \\\n",
    "        -n RealESRGAN_x4plus \\\n",
    "        -i ./datasets/test \\\n",
    "        -o ./datasets/test_upscale  "
   ]
  },
  {
   "cell_type": "markdown",
   "id": "11639378-31b2-462b-8b90-b7ac403a6efa",
   "metadata": {},
   "source": [
    "针对写实图片人物的面部提升："
   ]
  },
  {
   "cell_type": "code",
   "execution_count": null,
   "id": "6a342314-c3e2-4fef-9b3a-83cf05378b5e",
   "metadata": {},
   "outputs": [],
   "source": [
    "!python tools/make_upscale.py \\\n",
    "        -n RealESRGAN_x4plus \\\n",
    "        -i ./datasets/test \\\n",
    "        -o ./datasets/test_upscale \\\n",
    "        --face_enhance "
   ]
  },
  {
   "cell_type": "markdown",
   "id": "4e4fa264-b710-48ed-83f6-486a172c27d9",
   "metadata": {},
   "source": [
    "针对动漫图使用："
   ]
  },
  {
   "cell_type": "code",
   "execution_count": null,
   "id": "fc8e18fb-0f4f-4355-9fc2-7df89f077fe6",
   "metadata": {},
   "outputs": [],
   "source": [
    "!python tools/make_upscale.py \\\n",
    "        -n RealESRGAN_x4plus_anime_6B \\\n",
    "        -i ./datasets/test \\\n",
    "        -o ./datasets/test_upscale  "
   ]
  },
  {
   "cell_type": "markdown",
   "id": "470113f6-795a-41f8-a6b3-09f854a4cbc3",
   "metadata": {},
   "source": [
    "### 批量处理背景 + 自适应调整尺寸"
   ]
  },
  {
   "cell_type": "markdown",
   "id": "38ff2e9a-7ee0-46ad-bf04-2e16646a997b",
   "metadata": {},
   "source": [
    "./datasets/test是原始图片数据文件夹，请上传你的图片数据并进行更换  \n",
    "./datasets/test2是输出处理后图片路径  \n",
    "\n",
    "--max_size 可以把宽高的最大边缩放到指定尺寸内（按比例缩放），如--max_size 1024  \n",
    "--png2black 对透明底的png图处理成黑色底  \n",
    "--png2white 对透明底的png图处理成白色底  "
   ]
  },
  {
   "cell_type": "code",
   "execution_count": null,
   "id": "10d2bb3d-9002-4d3b-a4be-f5f74a008b9c",
   "metadata": {},
   "outputs": [],
   "source": [
    "!python tools/handle_images.py ./datasets/test_upscale ./datasets/test2 --png2black --max_size 768  "
   ]
  },
  {
   "cell_type": "markdown",
   "id": "34efda73-9cb4-4a54-8aac-489ded452a50",
   "metadata": {},
   "source": [
    "### 批量标注图片\n",
    "使用deepdanbooru生成tags标注文件。（仅针对纯二次元类图片效果较好，其他风格请手动标注）  \n",
    "./datasets/test2中是需要打标注的图片数据，请按需更换为自己的路径 "
   ]
  },
  {
   "cell_type": "markdown",
   "id": "f1ecd925-f722-4204-9dbc-e963d3fcc585",
   "metadata": {},
   "source": [
    "动漫图片打标（danbooru tags）："
   ]
  },
  {
   "cell_type": "code",
   "execution_count": null,
   "id": "8863a53a-4650-4f27-863e-2a70e8b89e11",
   "metadata": {
    "tags": []
   },
   "outputs": [],
   "source": [
    "# 该步根据需要标注文件数量不同，需要运行一段时间  \n",
    "!python tools/label_images_with_tags.py \\\n",
    "        --path ./datasets/test2 \\ \n",
    "        --threshold 0.75 # 阈值 "
   ]
  },
  {
   "cell_type": "markdown",
   "id": "11e33d74-e2d1-4657-b37f-190a62c559ab",
   "metadata": {},
   "source": [
    "写实图片打标 (自然句子描述)："
   ]
  },
  {
   "cell_type": "code",
   "execution_count": null,
   "id": "82395d9e-2c4c-4cf6-87c4-62b7c646a3ca",
   "metadata": {},
   "outputs": [],
   "source": [
    "# 该步根据需要标注文件数量不同，需要运行一段时间  \n",
    "!python tools/label_images_with_caption.py \\\n",
    "        -f ./datasets/test2 \\ \n",
    "        -d \"cuda\" \\\n",
    "        -c  \"ViT-L-14/openai\" \\\n",
    "        -m \"fast\" "
   ]
  },
  {
   "cell_type": "markdown",
   "id": "a4ccfaaf-4053-4537-bb90-e7572b4f6115",
   "metadata": {},
   "source": [
    "### 批量arb裁剪 \n",
    "可以有效处理不规则图片的一种裁剪方式  \n",
    "这里的离线arb处理可以帮助我们提前准备好数据集，不用每次训练时都做在线处理。"
   ]
  },
  {
   "cell_type": "code",
   "execution_count": null,
   "id": "fe8d00b1-9fb4-4499-ac58-d242c7eb9735",
   "metadata": {},
   "outputs": [],
   "source": [
    "!python tools/make_arb.py ./datasets/test2 \\\n",
    "    -o ./datasets/test_arb \\\n",
    "    --max-height 1024 \\\n",
    "    --max-width 1024 \\\n",
    "    --min-height 256 \\\n",
    "    --min-width 256 "
   ]
  },
  {
   "cell_type": "markdown",
   "id": "be0bf6f6-c6dd-4ac9-acf3-3d7ed534700a",
   "metadata": {},
   "source": [
    "# 二、准备预训练模型"
   ]
  },
  {
   "cell_type": "markdown",
   "id": "def72b19-9851-400f-8672-48023b3e95fb",
   "metadata": {},
   "source": [
    "## 转换检查点文件为diffusers官方权重\n",
    "输出的文件在dreambooth-for-diffusion/model下  \n",
    "--checkpoint_path  权重文件路径   \n",
    "--vae_path vae权重路径（转换时直接把单独的vae权重合并进去，使用总权重时不用再单独挂载vae文件 ） \n",
    "\n",
    "--from_safetensors 是否是safetensors格式文件\n",
    "\n",
    "### 以下参数只有转换sd2.1时才需要\n",
    "--prediction_type=\"v-prediction\"  \n",
    "--upcast_attention=True"
   ]
  },
  {
   "cell_type": "markdown",
   "id": "ae40f617-06ed-4d36-a5d1-0f03b02b4d74",
   "metadata": {},
   "source": [
    "转换safetensors格式权重："
   ]
  },
  {
   "cell_type": "code",
   "execution_count": null,
   "id": "07755591-ec69-44c4-ad3b-9f0a68d6941b",
   "metadata": {},
   "outputs": [],
   "source": [
    "# 该步需要运行大约一分钟 \n",
    "!python tools/all2diffusers.py \\\n",
    "    --checkpoint_path=./ckpt_models/Basil_mix_fixed.safetensors \\\n",
    "    --vae_path=./ckpt_models/animevae.pt \\\n",
    "    --dump_path=./base_model \\\n",
    "    --original_config_file=./ckpt_models/model-v1.yaml \\\n",
    "    --scheduler_type=\"ddim\" \\\n",
    "    --from_safetensors "
   ]
  },
  {
   "cell_type": "markdown",
   "id": "980fbdce-7feb-4d91-be91-989181a8115e",
   "metadata": {},
   "source": [
    "转换ckpt格式权重："
   ]
  },
  {
   "cell_type": "code",
   "execution_count": null,
   "id": "b86343a2-49f7-4185-9f58-a884564558cb",
   "metadata": {},
   "outputs": [],
   "source": [
    "# 该步需要运行大约一分钟 \n",
    "!python tools/all2diffusers.py \\\n",
    "    --checkpoint_path=./ckpt_models/xxx.ckpt \\\n",
    "    --vae_path=./ckpt_models/animevae.pt \\\n",
    "    --dump_path=./base_model \\\n",
    "    --original_config_file=./ckpt_models/model-v1.yaml \\\n",
    "    --scheduler_type=\"ddim\" "
   ]
  },
  {
   "cell_type": "markdown",
   "id": "3a3470d3-1691-438c-b8d7-df2cbf885614",
   "metadata": {},
   "source": [
    "# 三、进行Finetune训练\n",
    "以下训练脚本会自动帮你启动tensorboard日志监控进程，入口可参考: https://www.autodl.com/docs/tensorboard/  \n",
    "使用tensorboard面板可以帮助分析loss在不同step的总体下降情况  \n",
    "如果你嫌输出太长，可以在以下命令每一行后加一句 &> log.txt, 会把输出都扔到这个文件中 \n",
    "```\n",
    "!sh train_style.sh &> log.txt\n",
    "```\n",
    "本代码包环境已在A5000、3090测试通过，如果你在某些机器上运行遇到问题可以尝试卸载编译的xformers\n",
    "```\n",
    "!pip uninstall xformers\n",
    "```"
   ]
  },
  {
   "cell_type": "markdown",
   "id": "98645b45-4cf1-49f8-b2bb-42a5a8771164",
   "metadata": {},
   "source": [
    "### 如果需要训练特定人、事物： \n",
    "（推荐准备3~5张风格统一、特定对象的图片）  \n",
    "请打开train_object.sh具体修改里面的参数"
   ]
  },
  {
   "cell_type": "code",
   "execution_count": null,
   "id": "8b6833e3-8d3f-438a-b45d-0711e9724496",
   "metadata": {},
   "outputs": [],
   "source": [
    "# 大约十分钟后才会在tensorboard有日志（因为前十分钟在生成同类别伪图）\n",
    "!sh train_object.sh "
   ]
  },
  {
   "cell_type": "markdown",
   "id": "594a0352-8bb5-45de-bb19-0028b671569b",
   "metadata": {},
   "source": [
    "### 如果要训练画风： \n",
    "（推荐准备3000+张图片，包含尽可能的多样性，数据决定训练出的模型质量）  \n",
    "请打开train_object具体修改里面的参数  \n",
    "实测速度1000步大概8分钟  "
   ]
  },
  {
   "cell_type": "code",
   "execution_count": null,
   "id": "442cff33-d264-4096-97e2-0c578229c814",
   "metadata": {},
   "outputs": [],
   "source": [
    "# 正常训练立刻就可以在tensorboard看到日志\n",
    "!sh train_style.sh  "
   ]
  },
  {
   "cell_type": "markdown",
   "id": "3aa1d170-e2d1-4f72-8b0c-b6bfd5f0c318",
   "metadata": {},
   "source": [
    "后台训练法请参考教程.md中的内容"
   ]
  },
  {
   "cell_type": "markdown",
   "id": "9aece8a8-c9ec-41eb-b6ad-c6c88b6203e1",
   "metadata": {},
   "source": [
    "省钱训练法（训练成功后自动关机，适合步数很大且夜晚训练的场景）"
   ]
  },
  {
   "cell_type": "code",
   "execution_count": null,
   "id": "52fff58d-1a88-4a59-a961-b13b52812425",
   "metadata": {},
   "outputs": [],
   "source": [
    "!sh back_train.sh"
   ]
  },
  {
   "cell_type": "markdown",
   "id": "17557280-3a5a-4bde-95c3-f20e1ccffa4d",
   "metadata": {},
   "source": [
    "### 拓展：训练Textual inversion"
   ]
  },
  {
   "cell_type": "code",
   "execution_count": null,
   "id": "36a543ee-56f8-405a-baaa-b784d96c7d40",
   "metadata": {},
   "outputs": [],
   "source": [
    "!sh train_textual_inversion.sh"
   ]
  },
  {
   "cell_type": "markdown",
   "id": "1415aab9-56f7-4b7f-9bd9-4efdf91d0162",
   "metadata": {},
   "source": [
    "## LoRA融合部分\n",
    "可以将权重之间进行加权合并"
   ]
  },
  {
   "cell_type": "markdown",
   "id": "db4f12c1-e1e2-45af-9524-fcbfc11660bc",
   "metadata": {},
   "source": [
    "### 仅融合unet_lora到总权重\n",
    "./output_merged 为得到的总权重"
   ]
  },
  {
   "cell_type": "code",
   "execution_count": null,
   "id": "04b00703-80b4-4dd4-aed1-555dfd634d06",
   "metadata": {},
   "outputs": [],
   "source": [
    "!lora_add ./base_model ./new_model/epoch_6_step_0/lora_weights/lora_e6_s0.pt ./output_merged 0.8 --mode upl"
   ]
  },
  {
   "cell_type": "markdown",
   "id": "b5136ab7-9dfc-441b-bb4f-49a6048626ea",
   "metadata": {},
   "source": [
    "### 融合unet_lora和text_encder_lora到总权重\n",
    "./output_merged 为得到的总权重"
   ]
  },
  {
   "cell_type": "code",
   "execution_count": null,
   "id": "29f9283c-364c-43ad-855e-ebfda9162a6d",
   "metadata": {},
   "outputs": [],
   "source": [
    "!lora_add ./base_model ./new_model/epoch_6_step_0/lora_weights/lora_e6_s0.pt ./output_merged 0.8 --mode upl with_text_lora"
   ]
  },
  {
   "cell_type": "markdown",
   "id": "4e3729c9-1707-445a-908b-25401047c27e",
   "metadata": {},
   "source": [
    "### 拓展：加权两个LoRA权重\n",
    "这里给出一个伪代码例子，最后得到的xxx3.pt = xxx1.pt * 0.3 + xxx2.pt * 0.7"
   ]
  },
  {
   "cell_type": "code",
   "execution_count": null,
   "id": "c9c8cc26-1028-4242-ac54-f8e6001aef4f",
   "metadata": {},
   "outputs": [],
   "source": [
    "!lora_add --path_1 xxx1.pt --path_2 xxx2.pt --mode lpl --alpha 0.7 --output_path xxx3.pt"
   ]
  },
  {
   "cell_type": "markdown",
   "id": "6a2744c0-177c-42cb-be82-012495236b67",
   "metadata": {},
   "source": [
    "## 总权重融合部分 \n",
    "关于模型融合部分可以参考这篇文章：https://note.com/kohya_ss/n/n9a485a066d5b"
   ]
  },
  {
   "cell_type": "markdown",
   "id": "ed2cd4dd-967b-436b-a2ce-95ef6d8752c8",
   "metadata": {},
   "source": [
    "### 分层融合\n",
    "如--input_blocks \"0:0.3\"，0是input层序号，0.3是第二个权重的占比，多层描述之间以英文逗号分隔，层内以英文冒号分隔。  \n",
    "这里的权重比例指的是第二个权重的占比。  \n",
    "\n",
    "如果不需要融合middle_blocks，可以直接删除--middle_blocks这一行。  \n",
    "支持safetensors格式和ckpt格式权重的融合与保存（根据文件格式自动判断）。"
   ]
  },
  {
   "cell_type": "code",
   "execution_count": null,
   "id": "cac33730-d5d5-499c-8ea1-0bf216635eb6",
   "metadata": {},
   "outputs": [],
   "source": [
    "!python tools/merge_unet_blocks.py ./ckpt_models/xxx1.safetensors ./ckpt_models/xxx2.safetensors \\\n",
    "        --input_blocks \"0:0.5, 1:0.5, 2:0.5, 3:0.6, 4:0.5, 5:0.5, 6:0.5, 7:0.5, 8:0.5, 9:0.5, 10:0.5, 11:0.5\" \\\n",
    "        --middle_blocks \"0:0.5, 1:0.5, 2:0.6\" \\\n",
    "        --output_blocks \"0:0.5, 1:0.5, 2:0.5, 3:0.6, 4:0.5, 5:0.5, 6:0.5, 7:0.5, 8:0.5, 9:0.5, 10:0.5, 11:0.5\" \\\n",
    "        --out \"0:0.5, 2:0.3\" \\\n",
    "        --time_embed \"0:0.5, 2:0.3\" \\\n",
    "        --dump_path ./ckpt_models/merged.ckpt  "
   ]
  },
  {
   "cell_type": "markdown",
   "id": "4d485664-44e4-4aaf-aabd-9971e538a539",
   "metadata": {},
   "source": [
    "以上这段等价于：(即只为特别层指定融合时的比例，其他层融合时共用基础比例--base_alpha 0.5)"
   ]
  },
  {
   "cell_type": "code",
   "execution_count": null,
   "id": "8c8ff1da-6fce-41fe-a682-22d869f57413",
   "metadata": {},
   "outputs": [],
   "source": [
    "!python tools/merge_unet_blocks.py ./ckpt_models/xxx1.safetensors ./ckpt_models/xxx2.ckpt \\\n",
    "        --base_alpha 0.5 \\\n",
    "        --input_blocks \"3:0.6\" \\\n",
    "        --middle_blocks \"2:0.6\" \\\n",
    "        --output_blocks \"3:0.6,\" \\\n",
    "        --out \"2:0.3\" \\\n",
    "        --time_embed \"2:0.3\" \\\n",
    "        --dump_path ./ckpt_models/merged.safetensors  "
   ]
  },
  {
   "cell_type": "markdown",
   "id": "6bbffec5-160c-4874-8a65-64347d7edbf6",
   "metadata": {},
   "source": [
    "你也可以，以相同的比例合并整个unet层："
   ]
  },
  {
   "cell_type": "code",
   "execution_count": null,
   "id": "5b19bad1-ed24-4288-808b-d44fda8f6dcc",
   "metadata": {},
   "outputs": [],
   "source": [
    "!python tools/merge_unet_blocks.py ./ckpt_models/xxx1.safetensors ./ckpt_models/xxx2.ckpt \\\n",
    "        --base_alpha 0.5 \\\n",
    "        --dump_path ./ckpt_models/merged.safetensors   "
   ]
  },
  {
   "cell_type": "markdown",
   "id": "f467b2e9-9170-4f19-aea9-7ce0b4e5444e",
   "metadata": {},
   "source": [
    "## 测试总权重效果\n",
    "打开dreambooth-for-diffusion/test_model.py文件修改其中的model_path和prompt，然后执行以下测试  \n",
    "会生成一张图片 在左侧test-1、2、3.png"
   ]
  },
  {
   "cell_type": "code",
   "execution_count": null,
   "id": "b462f33b-48e2-4092-b3de-463025e4ff9e",
   "metadata": {},
   "outputs": [],
   "source": [
    "# 大约5~10s \n",
    "!python test_model.py"
   ]
  },
  {
   "cell_type": "markdown",
   "id": "0d8c509a-364e-4214-88fa-57eb6b9f6206",
   "metadata": {},
   "source": [
    "# 四、权重格式转换 "
   ]
  },
  {
   "cell_type": "markdown",
   "id": "47abb5fd-2f84-4344-a9cf-539b52515971",
   "metadata": {},
   "source": [
    "### 转换diffusers总权重为ckpt检查点 \n",
    "输出的文件在dreambooth-for-diffusion/ckpt_models/中，名为newModel.ckpt"
   ]
  },
  {
   "cell_type": "markdown",
   "id": "5bfe9643-ef1d-42a3-a427-c4904f3a8631",
   "metadata": {},
   "source": [
    "原始保存："
   ]
  },
  {
   "cell_type": "code",
   "execution_count": null,
   "id": "2ad27225-10ed-4b3c-9978-bd909404949c",
   "metadata": {},
   "outputs": [],
   "source": [
    "!python tools/diffusers2ckpt.py ./output_merged ./ckpt_models/newModel.ckpt "
   ]
  },
  {
   "cell_type": "markdown",
   "id": "b08a5e37-97d3-4c1e-9ba7-e331af23437f",
   "metadata": {},
   "source": [
    "以下代码添加--half 保存float16半精度，权重文件大小会减半（约2g），效果基本一致"
   ]
  },
  {
   "cell_type": "code",
   "execution_count": null,
   "id": "cba99145-6aab-41b6-a5b7-6e0c4fd96641",
   "metadata": {},
   "outputs": [],
   "source": [
    "!python tools/diffusers2ckpt.py ./model2 ./ckpt_models/newModel_half.ckpt --half"
   ]
  },
  {
   "cell_type": "markdown",
   "id": "a7da9496-1f63-4193-8622-96d6dbd8e19d",
   "metadata": {},
   "source": [
    "### 转换ckpt为safetensors格式"
   ]
  },
  {
   "cell_type": "code",
   "execution_count": null,
   "id": "f17cdfcb-bc8c-4f34-87e2-0dfca19dd6e1",
   "metadata": {},
   "outputs": [],
   "source": [
    "!python tools/ckpt2safetensors.py -i ./ckpt_models/newModel_half.ckpt -o ./ckpt_models/newModel_half.safetensors"
   ]
  },
  {
   "cell_type": "markdown",
   "id": "38274b5f-cb76-4cd4-b6a2-a646c58b47bc",
   "metadata": {},
   "source": [
    "### 转换safetensors为ckpt格式"
   ]
  },
  {
   "cell_type": "code",
   "execution_count": null,
   "id": "4a6383dc-f0d0-46d8-a5fe-256d45647723",
   "metadata": {},
   "outputs": [],
   "source": [
    "!python tools/safetensors2ckpt.py -i ./ckpt_models/newModel_half.safetensors -o ./ckpt_models/newModel_2.ckpt "
   ]
  },
  {
   "cell_type": "markdown",
   "id": "d1f98d06-27f3-45b6-85df-c57cda5d6166",
   "metadata": {},
   "source": [
    "下载总权重文件，去玩吧~"
   ]
  },
  {
   "cell_type": "markdown",
   "id": "b13f0627-1d0a-4ae2-ab9c-90a605ee4a0e",
   "metadata": {},
   "source": [
    "有问题可以进XDiffusion QQ Group：455521885  "
   ]
  },
  {
   "cell_type": "markdown",
   "id": "ada82190-c6ab-49e7-9141-4c58c1cfded8",
   "metadata": {},
   "source": [
    "# 五、其它内容"
   ]
  },
  {
   "cell_type": "markdown",
   "id": "b939a03f-23c9-410d-89be-02e154eeb6b4",
   "metadata": {},
   "source": [
    "### 记得定期清理不需要的中间权重和文件，不然容易导致空间满\n",
    "大部分问题已在教程.md中详细记录，也包含其他非autodl机器手动部署该训练一体化封装代码包的步骤"
   ]
  },
  {
   "cell_type": "code",
   "execution_count": null,
   "id": "3236d62e-fa3d-4826-874e-431f208cfb6d",
   "metadata": {},
   "outputs": [],
   "source": [
    "# 清理文件的示例\n",
    "!rm -rf ./model* # 删除当前目录model文件/文件夹\n",
    "!rm -rf ./new_model/* # 删除当前目录所有new_开头的模型文件夹\n",
    "# !rm -rf ./datasets/test2 #删除datasets中的test2数据集 "
   ]
  },
  {
   "cell_type": "markdown",
   "id": "b2989045-1c77-4908-927c-e8b25e8b1812",
   "metadata": {},
   "source": [
    "linux压缩一个文件夹为单个文件包的命令：\n",
    "```\n",
    "!zip xx.zip -r ./xxx\n",
    "```\n",
    "解压一个包到文件夹：\n",
    "```\n",
    "!unzip xx.zip -d xxx\n",
    "```\n",
    "或许你在上传、下载数据集时会用到。\n",
    "\n",
    "其他linux基础命令：https://www.autodl.com/docs/linux/\n",
    "\n",
    "关于文件上传下载的提速可查看官网文档推荐的几种方式：https://www.autodl.com/docs/scp/"
   ]
  },
  {
   "cell_type": "code",
   "execution_count": null,
   "id": "3c004266-2ce6-47d0-8281-74bb8ce7956b",
   "metadata": {},
   "outputs": [],
   "source": []
  }
 ],
 "metadata": {
  "kernelspec": {
   "display_name": "Python 3 (ipykernel)",
   "language": "python",
   "name": "python3"
  },
  "language_info": {
   "codemirror_mode": {
    "name": "ipython",
    "version": 3
   },
   "file_extension": ".py",
   "mimetype": "text/x-python",
   "name": "python",
   "nbconvert_exporter": "python",
   "pygments_lexer": "ipython3",
   "version": "3.8.10"
  },
  "toc-autonumbering": false,
  "toc-showmarkdowntxt": false,
  "toc-showtags": false
 },
 "nbformat": 4,
 "nbformat_minor": 5
}
